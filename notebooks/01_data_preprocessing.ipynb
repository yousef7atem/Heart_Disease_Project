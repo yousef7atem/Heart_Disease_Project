# 01_data_preprocessing.ipynb
import pandas as pd
import numpy as np
import seaborn as sns
import matplotlib.pyplot as plt
from sklearn.preprocessing import StandardScaler
from sklearn.model_selection import train_test_split

# قراءة البيانات من فولدر data
df = pd.read_csv("../data/heart_disease.csv")

# عرض أول صفوف
print(df.head())

# التحقق من القيم الفارغة
print(df.isnull().sum())

# فصل المميزات والهدف
X = df.drop("target", axis=1)
y = df["target"]

# Encoding (لو فيه categorical)
X = pd.get_dummies(X, drop_first=True)

# Scaling
scaler = StandardScaler()
X_scaled = pd.DataFrame(scaler.fit_transform(X), columns=X.columns)

# Train-test split
X_train, X_test, y_train, y_test = train_test_split(
    X_scaled, y, test_size=0.2, random_state=42, stratify=y
)

# EDA
sns.countplot(x=y)
plt.title("Target Distribution (0=No Disease, 1=Disease)")
plt.show()

sns.heatmap(X_scaled.corr(), cmap="coolwarm")
plt.title("Feature Correlation Heatmap")
plt.show()

